{
 "cells": [
  {
   "cell_type": "code",
   "execution_count": 1,
   "metadata": {},
   "outputs": [],
   "source": [
    "import argparse\n",
    "import json\n",
    "import logging\n",
    "from pathlib import Path\n",
    "from typing import List, Dict, Any"
   ]
  },
  {
   "cell_type": "code",
   "execution_count": 5,
   "metadata": {},
   "outputs": [
    {
     "name": "stderr",
     "output_type": "stream",
     "text": [
      "/Users/neel/miniconda3/envs/webarena/lib/python3.10/site-packages/beartype/_util/hint/pep/utilpeptest.py:345: BeartypeDecorHintPep585DeprecationWarning: PEP 484 type hint typing.Mapping[str, gymnasium.spaces.space.Space[typing.Any]] deprecated by PEP 585 scheduled for removal in the first Python version released after October 5th, 2025. To resolve this, import this hint from \"beartype.typing\" rather than \"typing\". See this discussion for further details and alternatives:\n",
      "    https://github.com/beartype/beartype#pep-585-deprecations\n",
      "  warn(\n",
      "/Users/neel/miniconda3/envs/webarena/lib/python3.10/site-packages/pydantic/_internal/_fields.py:132: UserWarning: Field \"model_id\" in DeployedModel has conflict with protected namespace \"model_\".\n",
      "\n",
      "You may be able to resolve this warning by setting `model_config['protected_namespaces'] = ()`.\n",
      "  warnings.warn(\n",
      "/Users/neel/miniconda3/envs/webarena/lib/python3.10/site-packages/tqdm/auto.py:21: TqdmWarning: IProgress not found. Please update jupyter and ipywidgets. See https://ipywidgets.readthedocs.io/en/stable/user_install.html\n",
      "  from .autonotebook import tqdm as notebook_tqdm\n",
      "None of PyTorch, TensorFlow >= 2.0, or Flax have been found. Models won't be available and only tokenizers, configuration and file/data utilities can be used.\n"
     ]
    }
   ],
   "source": [
    "from llm_judge import LLMJudge\n",
    "from run_tot import test\n",
    "from agent import construct_agent"
   ]
  },
  {
   "cell_type": "code",
   "execution_count": 6,
   "metadata": {},
   "outputs": [],
   "source": [
    "args = argparse.Namespace(\n",
    "    instruction_path=\"agent/prompts/jsons/p_cot_id_actree_2s.json\",\n",
    "    test_start_idx=0,\n",
    "    test_end_idx=1,\n",
    "    result_dir=\"out\",\n",
    "    k=5,\n",
    "    m=2,\n",
    "    model=\"gpt-4\",\n",
    "    temperature=0.7,\n",
    "    max_tokens=500,\n",
    "    # Add any other necessary arguments here\n",
    "    render=False,\n",
    "    slow_mo=0,\n",
    "    action_set_tag=\"id_accessibility_tree\",\n",
    "    observation_type=\"accessibility_tree\",\n",
    "    current_viewport_only=True,\n",
    "    viewport_width=1280,\n",
    "    viewport_height=720,\n",
    "    save_trace_enabled=True,\n",
    "    sleep_after_execution=0.0,\n",
    "    max_steps=30,\n",
    "    parsing_failure_th=3,\n",
    "    repeating_action_failure_th=3,\n",
    ")"
   ]
  },
  {
   "cell_type": "code",
   "execution_count": 7,
   "metadata": {},
   "outputs": [],
   "source": [
    "logging.basicConfig(level=logging.INFO, \n",
    "                    format='%(asctime)s - %(levelname)s - %(message)s',\n",
    "                    filename=f\"{args.result_dir}/tot_run.log\")\n",
    "console = logging.StreamHandler()\n",
    "console.setLevel(logging.INFO)\n",
    "logging.getLogger('').addHandler(console)"
   ]
  },
  {
   "cell_type": "code",
   "execution_count": 8,
   "metadata": {},
   "outputs": [],
   "source": [
    "# Cell 4: Setup LLM Judge\n",
    "llm_judge = LLMJudge(model=args.model, \n",
    "                     temperature=args.temperature,\n",
    "                     max_tokens=args.max_tokens)"
   ]
  },
  {
   "cell_type": "code",
   "execution_count": 9,
   "metadata": {},
   "outputs": [
    {
     "ename": "AttributeError",
     "evalue": "'dict' object has no attribute 'provider'",
     "output_type": "error",
     "traceback": [
      "\u001b[0;31m---------------------------------------------------------------------------\u001b[0m",
      "\u001b[0;31mAttributeError\u001b[0m                            Traceback (most recent call last)",
      "Cell \u001b[0;32mIn[9], line 1\u001b[0m\n\u001b[0;32m----> 1\u001b[0m agent \u001b[38;5;241m=\u001b[39m \u001b[43mconstruct_agent\u001b[49m\u001b[43m(\u001b[49m\u001b[38;5;28;43mvars\u001b[39;49m\u001b[43m(\u001b[49m\u001b[43margs\u001b[49m\u001b[43m)\u001b[49m\u001b[43m)\u001b[49m\n",
      "File \u001b[0;32m~/fa24_research/webarena/agent/agent.py:161\u001b[0m, in \u001b[0;36mconstruct_agent\u001b[0;34m(args)\u001b[0m\n\u001b[1;32m    160\u001b[0m \u001b[38;5;28;01mdef\u001b[39;00m \u001b[38;5;21mconstruct_agent\u001b[39m(args: argparse\u001b[38;5;241m.\u001b[39mNamespace) \u001b[38;5;241m-\u001b[39m\u001b[38;5;241m>\u001b[39m Agent:\n\u001b[0;32m--> 161\u001b[0m     llm_config \u001b[38;5;241m=\u001b[39m \u001b[43mlm_config\u001b[49m\u001b[38;5;241;43m.\u001b[39;49m\u001b[43mconstruct_llm_config\u001b[49m\u001b[43m(\u001b[49m\u001b[43margs\u001b[49m\u001b[43m)\u001b[49m\n\u001b[1;32m    163\u001b[0m     agent: Agent\n\u001b[1;32m    164\u001b[0m     \u001b[38;5;28;01mif\u001b[39;00m args\u001b[38;5;241m.\u001b[39magent_type \u001b[38;5;241m==\u001b[39m \u001b[38;5;124m\"\u001b[39m\u001b[38;5;124mteacher_forcing\u001b[39m\u001b[38;5;124m\"\u001b[39m:\n",
      "File \u001b[0;32m~/fa24_research/webarena/llms/lm_config.py:35\u001b[0m, in \u001b[0;36mconstruct_llm_config\u001b[0;34m(args)\u001b[0m\n\u001b[1;32m     33\u001b[0m \u001b[38;5;28;01mdef\u001b[39;00m \u001b[38;5;21mconstruct_llm_config\u001b[39m(args: argparse\u001b[38;5;241m.\u001b[39mNamespace) \u001b[38;5;241m-\u001b[39m\u001b[38;5;241m>\u001b[39m LMConfig:\n\u001b[1;32m     34\u001b[0m     llm_config \u001b[38;5;241m=\u001b[39m LMConfig(\n\u001b[0;32m---> 35\u001b[0m         provider\u001b[38;5;241m=\u001b[39m\u001b[43margs\u001b[49m\u001b[38;5;241;43m.\u001b[39;49m\u001b[43mprovider\u001b[49m, model\u001b[38;5;241m=\u001b[39margs\u001b[38;5;241m.\u001b[39mmodel, mode\u001b[38;5;241m=\u001b[39margs\u001b[38;5;241m.\u001b[39mmode\n\u001b[1;32m     36\u001b[0m     )\n\u001b[1;32m     37\u001b[0m     \u001b[38;5;28;01mif\u001b[39;00m args\u001b[38;5;241m.\u001b[39mprovider \u001b[38;5;241m==\u001b[39m \u001b[38;5;124m\"\u001b[39m\u001b[38;5;124mopenai\u001b[39m\u001b[38;5;124m\"\u001b[39m:\n\u001b[1;32m     38\u001b[0m         llm_config\u001b[38;5;241m.\u001b[39mgen_config[\u001b[38;5;124m\"\u001b[39m\u001b[38;5;124mtemperature\u001b[39m\u001b[38;5;124m\"\u001b[39m] \u001b[38;5;241m=\u001b[39m args\u001b[38;5;241m.\u001b[39mtemperature\n",
      "\u001b[0;31mAttributeError\u001b[0m: 'dict' object has no attribute 'provider'"
     ]
    }
   ],
   "source": [
    "agent = construct_agent(vars(args))"
   ]
  },
  {
   "cell_type": "code",
   "execution_count": null,
   "metadata": {},
   "outputs": [],
   "source": []
  }
 ],
 "metadata": {
  "kernelspec": {
   "display_name": "webarena",
   "language": "python",
   "name": "python3"
  },
  "language_info": {
   "codemirror_mode": {
    "name": "ipython",
    "version": 3
   },
   "file_extension": ".py",
   "mimetype": "text/x-python",
   "name": "python",
   "nbconvert_exporter": "python",
   "pygments_lexer": "ipython3",
   "version": "3.10.14"
  }
 },
 "nbformat": 4,
 "nbformat_minor": 2
}
